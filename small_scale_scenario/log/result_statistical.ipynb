{
 "cells": [
  {
   "cell_type": "code",
   "execution_count": 1,
   "metadata": {},
   "outputs": [],
   "source": [
    "import os\n",
    "import re\n",
    "import numpy as np\n",
    "\n",
    "# 设置日志文件所在的根目录\n",
    "root_dir = '/home/weichen/stg_project/LargeST/log'"
   ]
  },
  {
   "cell_type": "code",
   "execution_count": 3,
   "metadata": {},
   "outputs": [
    {
     "name": "stdout",
     "output_type": "stream",
     "text": [
      "------------------------------------------------------------------------------------------------------------------------------------------------------\n",
      "\t\t\t\t\t\t full-shot\n",
      "------------------------------------------------------------------------------------------------------------------------------------------------------\n",
      "******************************\n",
      "Dataset: PEMS04\n",
      "******************************\n",
      "stnorm - norm - full-shot \t\t MAE: 20.22 ± 0.10 \t\t RMSE: 33.15 ± 0.27 \t\t MAPE: 13.72 ± 0.13\n",
      "\n",
      "stnorm - ttc - full-shot \t\t MAE: 20.08 ± 0.09 \t\t RMSE: 32.73 ± 0.23 \t\t MAPE: 13.78 ± 0.24\n",
      "\n",
      "******************************\n",
      "Dataset: URBANEV\n",
      "******************************\n",
      "stnorm - norm - full-shot \t\t MAE: 3.09 ± 0.02 \t\t RMSE: 5.31 ± 0.03 \t\t MAPE: 29.53 ± 0.57\n",
      "\n",
      "stnorm - ttc - full-shot \t\t MAE: 3.04 ± 0.02 \t\t RMSE: 5.22 ± 0.02 \t\t MAPE: 29.26 ± 0.57\n",
      "\n"
     ]
    }
   ],
   "source": [
    "settings = [\"full-shot\"] # \"full-shot\", \"few-shot\"\n",
    "\n",
    "datasets = [\"PEMS04\", \"URBANEV\"] # \"PEMS03\", \"PEMS04\", \"PEMS07\", \"PEMS08\", \"KNOWAIR\", \"URBANEV\"\n",
    "\n",
    "methods = [\"stnorm\"] # \"staeformer\", \"sttn\", \"gwnet\", \"stgcn\", \"stid\", \"stnorm\"\n",
    "\n",
    "# 遍历每个种子对应的文件夹\n",
    "\n",
    "for setting in settings:\n",
    "    \n",
    "    print('-'*150)\n",
    "    print(f\"\\t\\t\\t\\t\\t\\t {setting}\")\n",
    "    print('-'*150)\n",
    "    for dataest in datasets:\n",
    "        print('*'*30)\n",
    "        print(f\"Dataset: {dataest}\")\n",
    "        print('*'*30)\n",
    "        for method in methods:\n",
    "\n",
    "            for eval_method in ['norm', 'ttc']:\n",
    "                \n",
    "                # 初始化字典来存储结果\n",
    "                results = {\n",
    "                    'mae': [],\n",
    "                    'rmse': [],\n",
    "                    'mape': []\n",
    "                }\n",
    "                \n",
    "                for seed in ['2017', '2018', '2019']:\n",
    "                    log_file_path = os.path.join(root_dir, setting, dataest, method, f'{eval_method}_record_s{seed}.log')\n",
    "                    \n",
    "                    # 读取日志文件内容\n",
    "                    with open(log_file_path, 'r') as f:\n",
    "                        log_content = f.read()\n",
    "                    \n",
    "                    # content = re.findall(r'.*Horizon 3,.*', log_content)\n",
    "                    # content = re.findall(r'.*Horizon 6,.*', log_content)\n",
    "                    content = re.findall(r'.*Horizon 12,.*', log_content)\n",
    "                    # content = re.findall(r'.*- Average.*', log_content)\n",
    "                    \n",
    "                    if len(content) != 1:\n",
    "                        print('error!')\n",
    "                        exit()\n",
    "                    \n",
    "                    content = content[0]\n",
    "                    \n",
    "                    # 使用正则表达式提取mae、rmse、mape的值\n",
    "                    mae_match = re.search(r'Test MAE: (\\d+\\.\\d+)', content)\n",
    "                    rmse_match = re.search(r'Test RMSE: (\\d+\\.\\d+)', content)\n",
    "                    mape_match = re.search(r'Test MAPE: (\\d+\\.\\d+)', content)\n",
    "                                        \n",
    "                    if mae_match and rmse_match and mape_match:\n",
    "                        mae = float(mae_match.group(1))\n",
    "                        rmse = float(rmse_match.group(1))\n",
    "                        mape = float(mape_match.group(1)) * 100\n",
    "                        \n",
    "                        results['mae'].append(mae)\n",
    "                        results['rmse'].append(rmse)\n",
    "                        results['mape'].append(mape)\n",
    "                \n",
    "                if len(results['mae']) != 3 or len(results['rmse']) != 3 or len(results['mape']) != 3:\n",
    "                    print('wrong')\n",
    "                \n",
    "                # 计算平均值和标准差\n",
    "                mae_mean = np.mean(results['mae'])\n",
    "                mae_std = np.std(results['mae'])\n",
    "                rmse_mean = np.mean(results['rmse'])\n",
    "                rmse_std = np.std(results['rmse'])\n",
    "                mape_mean = np.mean(results['mape'])\n",
    "                mape_std = np.std(results['mape'])\n",
    "                \n",
    "                # 输出结果\n",
    "                print(f\"{method} - {eval_method} - {setting} \\t\\t MAE: {mae_mean:.2f} ± {mae_std:.2f} \\t\\t RMSE: {rmse_mean:.2f} ± {rmse_std:.2f} \\t\\t MAPE: {mape_mean:.2f} ± {mape_std:.2f}\")\n",
    "                # print(f\"{method} - {eval_method} - {setting} \\t\\t MAE:\" + f\"{mae_mean:.2f}\" + \"\\\\textcolor{gray}{\\\\text{\\scriptsize±\" + f'{mae_std:.2f}'+\"}}\" + \"\\t\\t RMSE:\" + f\"{rmse_mean:.2f}\" + \"\\\\textcolor{gray}{\\\\text{\\scriptsize±\" + f'{rmse_std:.2f}'+\"}}\" + \"\\t\\t MAPE:\" +  f\"{mape_mean:.2f}\" + \"\\\\textcolor{gray}{\\\\text{\\scriptsize±\" + f'{mape_std:.2f}'+\"}}\")\n",
    "                \n",
    "                print()"
   ]
  },
  {
   "cell_type": "code",
   "execution_count": null,
   "metadata": {},
   "outputs": [],
   "source": []
  },
  {
   "cell_type": "code",
   "execution_count": null,
   "metadata": {},
   "outputs": [],
   "source": []
  },
  {
   "cell_type": "code",
   "execution_count": null,
   "metadata": {},
   "outputs": [],
   "source": []
  }
 ],
 "metadata": {
  "kernelspec": {
   "display_name": "Python 3",
   "language": "python",
   "name": "python3"
  },
  "language_info": {
   "codemirror_mode": {
    "name": "ipython",
    "version": 3
   },
   "file_extension": ".py",
   "mimetype": "text/x-python",
   "name": "python",
   "nbconvert_exporter": "python",
   "pygments_lexer": "ipython3",
   "version": "3.10.13"
  }
 },
 "nbformat": 4,
 "nbformat_minor": 2
}
